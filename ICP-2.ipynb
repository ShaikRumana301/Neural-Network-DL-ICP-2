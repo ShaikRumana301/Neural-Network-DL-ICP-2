{
 "cells": [
  {
   "cell_type": "code",
   "execution_count": 16,
   "metadata": {},
   "outputs": [
    {
     "name": "stdout",
     "output_type": "stream",
     "text": [
      "please enter first name: Rumana\n",
      "please enter last name: Shaik\n",
      "Resultant String Alternative: Rmn hi\n"
     ]
    }
   ],
   "source": [
    "#defined the function for returning the alterbative characters of the string\n",
    "def string_alternative(result):\n",
    "    return result[::2];\n",
    "\n",
    "#enter first name as input \n",
    "first_name=input(\"please enter first name: \");\n",
    "#enter last name as input\n",
    "last_name=input(\"please enter last name: \");\n",
    "\n",
    "#defined the function for returning the full name \n",
    "def full_name(first_name,last_name):\n",
    "    #concatenating the string\n",
    "    return first_name +\" \"+last_name\n",
    "\n",
    "print(\"Resultant String Alternative: \"+string_alternative(full_name(first_name,last_name)));"
   ]
  },
  {
   "cell_type": "code",
   "execution_count": 7,
   "metadata": {},
   "outputs": [],
   "source": [
    "#read the Input file \n",
    "input_file= open(\"Input.txt\", \"r\")\n",
    "\n",
    "#Write the number of words count and split the data from input file\n",
    "output_file = open(\"output.txt\", \"w\")\n",
    "\n",
    "context = {}\n",
    "\n",
    "\n",
    "for line in input_file:\n",
    "    output_file.write(line)\n",
    "    #splits the number of lines fom the input file context\n",
    "    new_line = line.split()\n",
    "    for x in new_line:\n",
    "        if(context.get(x)==None):\n",
    "            context[x]=1\n",
    "        else:\n",
    "            context[x] = context[x] + 1\n",
    "\n",
    "#writes the word count of the context to the output file\n",
    "output_file.write(\"\\n\\nWord_Count : \\n\\n\")\n",
    "for key, value in context.items(): \n",
    "        output_file.write('%s:%s\\n' % (key, value))\n",
    "input_file.close()\n",
    "output_file.close()"
   ]
  },
  {
   "cell_type": "code",
   "execution_count": 24,
   "metadata": {},
   "outputs": [
    {
     "name": "stdout",
     "output_type": "stream",
     "text": [
      "enter customer heights : 145 130 165 150\n",
      "Resultant heights in centimeters using Nested Interactive :  [368.3, 330.2, 419.1, 381.0]\n",
      "Resultant heights in centimeters using List comprehension : [368.3, 330.2, 419.1, 381.0]\n"
     ]
    }
   ],
   "source": [
    "#read the input of customer heights in inches\n",
    "data = input(\"enter customer heights : \")\n",
    "\n",
    "#convert the height of customer in inches to centimeters\n",
    "def inchesToCentimeters(value):\n",
    "    return value*2.54\n",
    "\n",
    "heights=data.split()\n",
    "new_list=[]\n",
    "heights_list = list(map(float, heights))\n",
    "\n",
    "def convert_height_nested_loop(heights):\n",
    "    for x in heights:\n",
    "        #appending the list using Nested interactive loop\n",
    "        value=int(x)\n",
    "        new_list.append(inchesToCentimeters(value))\n",
    "    return new_list\n",
    "        \n",
    "def convert_height_list_comp(heights):\n",
    "    return [height * 2.54 for height in heights]\n",
    "    \n",
    "print(\"Resultant heights in centimeters using Nested Interactive : \",convert_height_nested_loop(heights))\n",
    "\n",
    "print(\"Resultant heights in centimeters using List comprehension :\",convert_height_list_comp(heights_list))"
   ]
  }
 ],
 "metadata": {
  "kernelspec": {
   "display_name": "Python 3",
   "language": "python",
   "name": "python3"
  },
  "language_info": {
   "codemirror_mode": {
    "name": "ipython",
    "version": 3
   },
   "file_extension": ".py",
   "mimetype": "text/x-python",
   "name": "python",
   "nbconvert_exporter": "python",
   "pygments_lexer": "ipython3",
   "version": "3.8.5"
  }
 },
 "nbformat": 4,
 "nbformat_minor": 4
}
